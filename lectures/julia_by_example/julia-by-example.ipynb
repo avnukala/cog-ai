{
 "cells": [
  {
   "cell_type": "markdown",
   "id": "19b8868c-1a63-4527-a1a1-5edfaa186c8c",
   "metadata": {},
   "source": [
    "This material is based on\n",
    "\n",
    "https://juliabyexample.helpmanual.io/\n",
    "\n",
    "which contains links to further documentation and resources for each of the concepts that are only briefly introduced here."
   ]
  },
  {
   "cell_type": "markdown",
   "id": "40b45aab-d162-4400-95e3-4d13e132dc4d",
   "metadata": {},
   "source": [
    "# Hello World\n",
    "\n",
    "The simplest possible script"
   ]
  },
  {
   "cell_type": "code",
   "execution_count": null,
   "id": "911f5766-828c-4efa-8ad2-2d0a94bbd7ec",
   "metadata": {},
   "outputs": [],
   "source": [
    "println(\"Hello World\")"
   ]
  },
  {
   "cell_type": "markdown",
   "id": "bb7b6cd0-f526-47b8-940e-1e7082f2b3ea",
   "metadata": {},
   "source": [
    "Now create a new **Julia file**, copy the above hello world script in it, save it, and then call it to execute by editing the following"
   ]
  },
  {
   "cell_type": "code",
   "execution_count": null,
   "id": "414c50c9-3f9b-457f-86a6-2b4eef0f9355",
   "metadata": {},
   "outputs": [],
   "source": [
    "include(\"myfile.jl\")"
   ]
  },
  {
   "cell_type": "markdown",
   "id": "10867eb8-821e-44d6-b18b-e2f4dddfc28a",
   "metadata": {},
   "source": [
    "# Simple Functions\n",
    "\n",
    "The example below shows two simple functions, how to call them and print the results. Further examples of number formatting are shown below."
   ]
  },
  {
   "cell_type": "code",
   "execution_count": null,
   "id": "16577bf8-9503-43e7-a55d-8ccf96d1c298",
   "metadata": {},
   "outputs": [],
   "source": [
    "# function to calculate the volume of a sphere\n",
    "function sphere_vol(r)\n",
    "    return 4/3*pi*r^3\n",
    "end"
   ]
  },
  {
   "cell_type": "code",
   "execution_count": null,
   "id": "3963d932-a670-4f90-966b-53b2c0a9bc46",
   "metadata": {},
   "outputs": [],
   "source": [
    "# a briefer way to define a function\n",
    "quadratic(a, sqr_term, b) = (-b + sqr_term) / 2a"
   ]
  },
  {
   "cell_type": "code",
   "execution_count": null,
   "id": "762be6a9-af0c-4ad3-9259-47800b6eccc3",
   "metadata": {},
   "outputs": [],
   "source": [
    "# calculates x for 0 = a*x^2+b*x+c, \n",
    "# notice how arguments types can be defined in function definitions\n",
    "function quadratic2(a::Float64, b::Float64, c::Float64)\n",
    "    sqr_term = sqrt(b^2-4a*c)\n",
    "    r1 = quadratic(a, sqr_term, b)\n",
    "    r2 = quadratic(a, -sqr_term, b)\n",
    "    r1, r2\n",
    "end"
   ]
  },
  {
   "cell_type": "code",
   "execution_count": null,
   "id": "44d3e0c6-5bc0-49a2-92af-25b8c5741e05",
   "metadata": {},
   "outputs": [],
   "source": [
    "vol = sphere_vol(3)"
   ]
  },
  {
   "cell_type": "code",
   "execution_count": null,
   "id": "13afe3f2-a21b-4e82-bd21-f017c3af24cd",
   "metadata": {},
   "outputs": [],
   "source": [
    "# the printf package allows number formatting \n",
    "# but it doesn't add a new line at the end; that's why we need the new line character \"/n\"\n",
    "using Printf"
   ]
  },
  {
   "cell_type": "code",
   "execution_count": null,
   "id": "35d5104c-3d88-4724-a5b9-3bd0ae56c997",
   "metadata": {},
   "outputs": [],
   "source": [
    "@printf \"volume = %0.3f\\n\" vol"
   ]
  },
  {
   "cell_type": "code",
   "execution_count": null,
   "id": "0811916c-5c05-406c-9512-e6e2ac827d76",
   "metadata": {},
   "outputs": [],
   "source": [
    "# we grab the two return values from this function\n",
    "quad1, quad2 = quadratic2(2.0, -2.0, -12.0)"
   ]
  },
  {
   "cell_type": "code",
   "execution_count": null,
   "id": "e93ac8a6-4af4-462e-bdd6-b1374e457507",
   "metadata": {},
   "outputs": [],
   "source": [
    "println(\"result 1: \", quad1)"
   ]
  },
  {
   "cell_type": "code",
   "execution_count": null,
   "id": "b321af9c-12f0-4771-9143-95220f5e56da",
   "metadata": {},
   "outputs": [],
   "source": [
    "println(\"result 2: \", quad2)"
   ]
  },
  {
   "cell_type": "markdown",
   "id": "0bc34c9c-4f38-4dbd-a9d9-c6f2a0f6dbdc",
   "metadata": {},
   "source": [
    "# Strings Basics\n",
    "\n",
    "Collection of different string examples (string indexing is the same as array indexing: see below)."
   ]
  },
  {
   "cell_type": "code",
   "execution_count": null,
   "id": "42f36970-6b79-414f-a1e3-1bba09defbaf",
   "metadata": {},
   "outputs": [],
   "source": [
    "# strings are defined with double quotes\n",
    "# like variables, strings can contain any unicode character\n",
    "s1 = \"The quick brown fox jumps over the lazy dog α, β, γ\""
   ]
  },
  {
   "cell_type": "code",
   "execution_count": null,
   "id": "49e476bd-da71-4941-aa59-f080850cac8a",
   "metadata": {},
   "outputs": [],
   "source": [
    "println(s1)"
   ]
  },
  {
   "cell_type": "code",
   "execution_count": null,
   "id": "ca9f5c04-52a4-4e93-885e-91db5557b4ad",
   "metadata": {},
   "outputs": [],
   "source": [
    "# chars are defined with single quotes\n",
    "c1 = 'a'"
   ]
  },
  {
   "cell_type": "code",
   "execution_count": null,
   "id": "a1d67391-9b61-4037-920b-4e43b1481464",
   "metadata": {},
   "outputs": [],
   "source": [
    "println(c1)"
   ]
  },
  {
   "cell_type": "code",
   "execution_count": null,
   "id": "2011d69a-c95a-4c6e-949a-0f975a86bfea",
   "metadata": {},
   "outputs": [],
   "source": [
    "# the ascii value of a character\n",
    "println(c1, \" ascii value = \", Int(c1))"
   ]
  },
  {
   "cell_type": "code",
   "execution_count": null,
   "id": "10243b02-823f-4912-930c-b4d042ab7267",
   "metadata": {},
   "outputs": [],
   "source": [
    "println(\"Int('α') == \", Int('α'))"
   ]
  },
  {
   "cell_type": "code",
   "execution_count": null,
   "id": "20ba5ffb-9770-49a1-a7bc-a15a3aca9665",
   "metadata": {},
   "outputs": [],
   "source": [
    "println(Int('1'))"
   ]
  },
  {
   "cell_type": "code",
   "execution_count": null,
   "id": "e0d3f0ec-b885-4bbd-aa97-02be5c4edf34",
   "metadata": {},
   "outputs": [],
   "source": [
    "# make capitals/ make lower case\n",
    "s1_caps = uppercase(s1)\n",
    "s1_lower = lowercase(s1)\n",
    "println(s1_caps, \"\\n\", s1_lower)"
   ]
  },
  {
   "cell_type": "code",
   "execution_count": null,
   "id": "e8783271-3c89-4966-be70-e1d3805ccd87",
   "metadata": {},
   "outputs": [],
   "source": [
    "# sub strings can be indexed like arrays:\n",
    "println(s1[11])"
   ]
  },
  {
   "cell_type": "code",
   "execution_count": null,
   "id": "7e4e1eb6-787d-4168-a4c8-bd9198754334",
   "metadata": {},
   "outputs": [],
   "source": [
    "# or sub strings can be created:\n",
    "println(s1[1:10])"
   ]
  },
  {
   "cell_type": "code",
   "execution_count": null,
   "id": "20a7feb7-a21d-41a4-b8b6-f3e0020de944",
   "metadata": {},
   "outputs": [],
   "source": [
    "# end is used for the end of the array or string\n",
    "# (show prints the raw value)\n",
    "show(s1[end-10:end]); println()"
   ]
  },
  {
   "cell_type": "code",
   "execution_count": null,
   "id": "1a81f6c3-44bc-49a3-8589-72e9247afca2",
   "metadata": {},
   "outputs": [],
   "source": [
    "# julia allows string Interpolation:\n",
    "a = \"welcome\"\n",
    "b = \"julia\"\n",
    "println(\"$a to $b\")"
   ]
  },
  {
   "cell_type": "code",
   "execution_count": null,
   "id": "1184c912-56e9-40e3-bb28-52dd782f9c05",
   "metadata": {},
   "outputs": [],
   "source": [
    "# this can extend to evaluate statements:\n",
    "println(\"1 + 2 = $(1+2)\")"
   ]
  },
  {
   "cell_type": "code",
   "execution_count": null,
   "id": "c1545244-c6c4-4286-96ce-d465dc4e1430",
   "metadata": {},
   "outputs": [],
   "source": [
    "# strings can be concatenated using the String function\n",
    "s2 = string(\"this\", \" and\", \" that\")\n",
    "println(s2)"
   ]
  },
  {
   "cell_type": "markdown",
   "id": "505ee624-9bfb-49a1-85a8-478bb0ff4163",
   "metadata": {},
   "source": [
    "# String: Converting and formatting"
   ]
  },
  {
   "cell_type": "code",
   "execution_count": null,
   "id": "0b30a45e-9156-43ce-9a80-b5f3badc1bec",
   "metadata": {},
   "outputs": [],
   "source": [
    "# strings can be converted using float and int:\n",
    "e_str1 = \"2.718\"\n",
    "e = parse(Float64, e_str1)"
   ]
  },
  {
   "cell_type": "code",
   "execution_count": null,
   "id": "ab959b41-fa8f-47bf-a691-ff41a290b030",
   "metadata": {},
   "outputs": [],
   "source": [
    "println(5e)"
   ]
  },
  {
   "cell_type": "code",
   "execution_count": null,
   "id": "b7262730-2ec7-4c4f-8425-e75c8faa02a8",
   "metadata": {},
   "outputs": [],
   "source": [
    "num_15 = parse(Int, \"15\")"
   ]
  },
  {
   "cell_type": "code",
   "execution_count": null,
   "id": "1175bb42-bb5c-451c-900f-92b3273f9bba",
   "metadata": {},
   "outputs": [],
   "source": [
    "println(3num_15)"
   ]
  },
  {
   "cell_type": "code",
   "execution_count": null,
   "id": "fee9277a-49a5-42dc-854b-77bdffd6902c",
   "metadata": {},
   "outputs": [],
   "source": [
    "# numbers can be converted to strings and formatted using printf\n",
    "@printf \"e = %0.2f\\n\" e"
   ]
  },
  {
   "cell_type": "code",
   "execution_count": null,
   "id": "38d3192b-8e91-45fa-b6e0-40700b0b915a",
   "metadata": {},
   "outputs": [],
   "source": [
    "# or to create another string, use sprintf\n",
    "e_str2 = @sprintf(\"%0.3f\", e)"
   ]
  },
  {
   "cell_type": "code",
   "execution_count": null,
   "id": "8b002322-32f9-4700-9522-86a020364877",
   "metadata": {},
   "outputs": [],
   "source": [
    "# to show that the 2 strings are the same\n",
    "println(\"e_str1 == e_str2: $(e_str1 == e_str2)\")"
   ]
  },
  {
   "cell_type": "code",
   "execution_count": null,
   "id": "d034cb92-eb40-48de-aa6b-0f370f3b9e74",
   "metadata": {},
   "outputs": [],
   "source": [
    "# available number format characters are f, e, a, g, c, s, p, d:\n",
    "# (pi is a predefined constant; however, since its type is \n",
    "# \"MathConst\" it has to be converted to a float to be formatted)\n",
    "@printf \"fix trailing precision: %0.3f\\n\" float(pi)\n",
    "\n",
    "@printf \"scientific form: %0.6e\\n\" 1000pi\n",
    "\n",
    "@printf \"float in hexadecimal format: %a\\n\" 0xff\n",
    "\n",
    "@printf \"fix trailing precision: %g\\n\" pi*1e8\n",
    "\n",
    "@printf \"a character: %c\\n\" 'α'\n",
    "\n",
    "@printf \"a string: %s\\n\" \"look I'm a string!\"\n",
    "\n",
    "@printf \"right justify a string: %50s\\n\" \"width 50, text right justified!\"\n",
    "\n",
    "@printf \"a pointer: %p\\n\" 100000000\n",
    "\n",
    "@printf \"print an integer: %d\\n\" 1e10"
   ]
  },
  {
   "cell_type": "code",
   "execution_count": null,
   "id": "2a2e4762-d931-4ead-b228-5353d1bb5e3f",
   "metadata": {},
   "outputs": [],
   "source": [
    "float(pi)"
   ]
  },
  {
   "cell_type": "markdown",
   "id": "09a8897b-fa06-4c4a-9c73-1c773eb4e235",
   "metadata": {},
   "source": [
    "# Arrays"
   ]
  },
  {
   "cell_type": "code",
   "execution_count": null,
   "id": "6f7c5f43-9a14-4d33-9536-c2c37fdbb2ed",
   "metadata": {},
   "outputs": [],
   "source": [
    "function printsum(a)\n",
    "    # the function summary generates a summary of an object\n",
    "    println(summary(a), \": \", repr(a))\n",
    "end"
   ]
  },
  {
   "cell_type": "code",
   "execution_count": null,
   "id": "e97179e7-bbb6-4566-bb0a-c1d98ff4d4e5",
   "metadata": {},
   "outputs": [],
   "source": [
    "# arrays can be initialised directly:\n",
    "a1 = [1, 2, 3]"
   ]
  },
  {
   "cell_type": "code",
   "execution_count": null,
   "id": "f5f8c3c5-72d5-4df6-99b8-b4b620325baf",
   "metadata": {},
   "outputs": [],
   "source": [
    "printsum(a1)"
   ]
  },
  {
   "cell_type": "code",
   "execution_count": null,
   "id": "3ae593db-3a25-4cb2-9533-b8c046df7fb3",
   "metadata": {},
   "outputs": [],
   "source": [
    "# or initialised empty:\n",
    "a2 = []\n",
    "printsum(a2)"
   ]
  },
  {
   "cell_type": "code",
   "execution_count": null,
   "id": "23252239-ff15-48fc-80b2-c48807cb9621",
   "metadata": {},
   "outputs": [],
   "source": [
    "# since this array has no type, functions like push! (see below) don't work\n",
    "# instead arrays can be initialised with a type:\n",
    "a3 = Int64[]\n",
    "printsum(a3)"
   ]
  },
  {
   "cell_type": "code",
   "execution_count": null,
   "id": "6b184772-766c-45fe-b891-11001625ad75",
   "metadata": {},
   "outputs": [],
   "source": [
    "# ranges are not arrays:\n",
    "a4 = 1:20\n",
    "printsum(a4)"
   ]
  },
  {
   "cell_type": "code",
   "execution_count": null,
   "id": "fae2b82c-e3c3-4486-9296-d091456c8bcf",
   "metadata": {},
   "outputs": [],
   "source": [
    "# however ranges can be used to create arrays thus:\n",
    "a4 = collect(1:20)\n",
    "printsum(a4)"
   ]
  },
  {
   "cell_type": "code",
   "execution_count": null,
   "id": "7160b470-fc6c-43fe-a526-4e9509b3c578",
   "metadata": {},
   "outputs": [],
   "source": [
    "# arrays can also be generated from comprehensions (https://docs.julialang.org/en/v1/manual/arrays/#Comprehensions-1 also see below):\n",
    "a5 = [2^i for i = 1:10]\n",
    "printsum(a5)"
   ]
  },
  {
   "cell_type": "code",
   "execution_count": null,
   "id": "b3df7597-e68c-4674-ad6e-79f6644e1273",
   "metadata": {},
   "outputs": [],
   "source": [
    "# arrays can be any type, so arrays of arrays can be created:\n",
    "a6 = (Array{Int64, 1})[]\n",
    "# (note this is a \"jagged array\" (i.e., an array of arrays), not a multidimensional array;\n",
    "# see below for multidimensional arrays)"
   ]
  },
  {
   "cell_type": "markdown",
   "id": "438fae4f-7513-4cc2-b690-63dab12c3ad4",
   "metadata": {},
   "source": [
    "### Dequeue functions for Arrays\n",
    "\n",
    "Julia provides a number of \"Dequeue\" functions, the most common for appending to the end of arrays is `push!`\n",
    "\n",
    "The `!` at the end of a function name indicates that the first argument is updated."
   ]
  },
  {
   "cell_type": "code",
   "execution_count": null,
   "id": "c8870304-8d83-4ecf-9997-5db4f313b393",
   "metadata": {},
   "outputs": [],
   "source": [
    "push!(a1, 4)"
   ]
  },
  {
   "cell_type": "markdown",
   "id": "2e635f40-2b1d-401a-acf7-46b3fbeebea4",
   "metadata": {},
   "source": [
    "**Notice that `push!(a2, 1)` would have caused an error.**"
   ]
  },
  {
   "cell_type": "code",
   "execution_count": null,
   "id": "b8d850c3-e0e5-4f60-8291-734af1a089a0",
   "metadata": {},
   "outputs": [],
   "source": [
    "push!(a3, 1)"
   ]
  },
  {
   "cell_type": "code",
   "execution_count": null,
   "id": "3ab38c48-a55f-4ac6-a17a-38566a949312",
   "metadata": {},
   "outputs": [],
   "source": [
    "push!(a6, [1,2,3])"
   ]
  },
  {
   "cell_type": "markdown",
   "id": "9e2eeaf7-530b-41af-ad8a-e330fe8c14c7",
   "metadata": {},
   "source": [
    "**We can use the function `repeat()` to create arrays.**\n",
    "\n",
    "**You must use the keywords \"inner\" and \"outer\" and all arguments must be arrays (not ranges).**"
   ]
  },
  {
   "cell_type": "code",
   "execution_count": null,
   "id": "a2b63ac1-8cab-4360-80f1-cefb913667bd",
   "metadata": {},
   "outputs": [],
   "source": [
    "a7 = repeat(a1,inner=[2],outer=[1])\n",
    "printsum(a7)"
   ]
  },
  {
   "cell_type": "code",
   "execution_count": null,
   "id": "00191f7e-a9d4-411a-bd6f-f5adc1b3833a",
   "metadata": {},
   "outputs": [],
   "source": [
    "a8 = repeat(collect(4:-1:1),inner=[1],outer=[2])\n",
    "printsum(a8)\n",
    "#> 8-element Array{Int64,1}: [4, 3, 2, 1, 4, 3, 2, 1]"
   ]
  },
  {
   "cell_type": "markdown",
   "id": "1d3dc41d-2c45-42fd-bc90-bc2a03dafe22",
   "metadata": {},
   "source": [
    "# Error Handling"
   ]
  },
  {
   "cell_type": "code",
   "execution_count": null,
   "id": "3e52f72b-b6ac-4f69-8b61-c6d56e39e9c8",
   "metadata": {},
   "outputs": [],
   "source": [
    "# try, catch can be used to deal with errors as with many other languages\n",
    "try\n",
    "    push!(a,1)\n",
    "catch err\n",
    "    showerror(stdout, err, backtrace());println()\n",
    "end\n",
    "println(\"Continuing after error\")\n",
    "#> Continuing after error"
   ]
  },
  {
   "cell_type": "markdown",
   "id": "208c8d66-9c16-435d-b4e8-d6d0153f6aab",
   "metadata": {},
   "source": [
    "# Multidimensional Arrays\n",
    "\n",
    "Julia has excellent multidimensional array capabilities. Check out the manual for more:  https://docs.julialang.org/en/v1/manual/arrays/"
   ]
  },
  {
   "cell_type": "code",
   "execution_count": null,
   "id": "493444c5-a149-4ed5-b840-aef9e5d0d22f",
   "metadata": {},
   "outputs": [],
   "source": [
    "# repeat can be useful to expand a grid\n",
    "# (similar to R's expand.grid() function if you are familiar with that):\n",
    "m1 = hcat(repeat([1, 2], inner=[1], outer=[3*2]), \n",
    "            repeat([1, 2, 3], inner=[2], outer=[2]),\n",
    "            repeat([1, 2, 3, 4], inner=[3], outer=[1]))"
   ]
  },
  {
   "cell_type": "markdown",
   "id": "726d873e-1a55-4cc5-83bd-3761229f795d",
   "metadata": {},
   "source": [
    "**We can use repeat for simple repetitions of arrays**"
   ]
  },
  {
   "cell_type": "code",
   "execution_count": null,
   "id": "9036a86b-6a68-4b82-a18f-0a553c846dc8",
   "metadata": {},
   "outputs": [],
   "source": [
    "# replicate m1 once into dim1 and twice into dim2 --\n",
    "m2 = repeat(m1, 1, 2)"
   ]
  },
  {
   "cell_type": "code",
   "execution_count": null,
   "id": "c3579521-93dd-4974-910b-14fd5de2be26",
   "metadata": {},
   "outputs": [],
   "source": [
    "# just change the inner and outer arguments to develop further intuition\n",
    "m3 = repeat(m1, 2, 1)"
   ]
  },
  {
   "cell_type": "markdown",
   "id": "72d7ca81-330b-42cf-be89-ceca43970549",
   "metadata": {},
   "source": [
    "**Julia comprehensions are another way to easily create multidimensional arrays.**"
   ]
  },
  {
   "cell_type": "code",
   "execution_count": null,
   "id": "eecca5d4-855a-435c-b856-9d2a576bb648",
   "metadata": {},
   "outputs": [],
   "source": [
    "m4 = [i+j+k for i=1:2, j=1:3, k=1:2]"
   ]
  },
  {
   "cell_type": "code",
   "execution_count": null,
   "id": "066eeada-bcd1-42ec-88c1-a3eccdf91f30",
   "metadata": {},
   "outputs": [],
   "source": [
    "m5 = [\"Hi Im # $(i+2*(j-1 + 3*(k-1)))\" for i=1:2, j=1:3, k=1:2]"
   ]
  },
  {
   "cell_type": "markdown",
   "id": "45ab87d4-d023-42d0-8af9-ca9244acb266",
   "metadata": {},
   "source": [
    "### Array reductions\n",
    "\n",
    "Many functions in Julia have an array method to be applied to specific dimensions of an array:"
   ]
  },
  {
   "cell_type": "code",
   "execution_count": null,
   "id": "34f936dc-91a5-4f1e-961c-eedeafc69784",
   "metadata": {},
   "outputs": [],
   "source": [
    " # takes the sum over the third dimension\n",
    "sum(m4, dims=3)"
   ]
  },
  {
   "cell_type": "code",
   "execution_count": null,
   "id": "06a43e67-ed93-4130-8358-10d3d7a14185",
   "metadata": {},
   "outputs": [],
   "source": [
    "# sum over first and third dim\n",
    "sum(m4, dims=(1,3))"
   ]
  },
  {
   "cell_type": "code",
   "execution_count": null,
   "id": "b2bb50fa-ecf1-4846-9c4d-187add5215e2",
   "metadata": {},
   "outputs": [],
   "source": [
    "# find the max element along dim 2\n",
    "maximum(m4, dims=2)"
   ]
  },
  {
   "cell_type": "code",
   "execution_count": null,
   "id": "8359ca2b-a160-4601-9ed9-062e1d5d72b5",
   "metadata": {},
   "outputs": [],
   "source": [
    "# find the max element and its index along dim 3\n",
    "findmax(m4, dims=3)"
   ]
  },
  {
   "cell_type": "markdown",
   "id": "e94f8fea-926b-4233-b243-635602aeddd8",
   "metadata": {},
   "source": [
    "### Broadcasting\n",
    "\n",
    "When you combine arrays of different sizes in an operation, an attempt is made to \"spread\" or \"broadcast\" the smaller array so that the sizes match up. broadcast operators are preceded by a dot:"
   ]
  },
  {
   "cell_type": "code",
   "execution_count": null,
   "id": "4cbf5e74-d5df-43c7-8438-78fe5551c38e",
   "metadata": {},
   "outputs": [],
   "source": [
    "# add 3 to all elements\n",
    "m4 .+ 3     "
   ]
  },
  {
   "cell_type": "code",
   "execution_count": null,
   "id": "0ffaa03a-e37a-4bf4-977d-54659a967c42",
   "metadata": {},
   "outputs": [],
   "source": [
    "# adds vector [1,2] to all elements along first dim\n",
    "m4 .+ [1,2] "
   ]
  },
  {
   "cell_type": "markdown",
   "id": "3aa9857c-9af7-4669-b10c-43685ca221a8",
   "metadata": {},
   "source": [
    "### Slices and views\n",
    "You can slice the arrays and have different views"
   ]
  },
  {
   "cell_type": "code",
   "execution_count": null,
   "id": "fb276c3a-355e-437c-8cf0-0fb8f34171b9",
   "metadata": {},
   "outputs": [],
   "source": [
    "# holds dim 3 fixed\n",
    "m4=m4[:,:,1] "
   ]
  },
  {
   "cell_type": "code",
   "execution_count": null,
   "id": "b21dd28f-c4e2-4841-ac05-483d1e264ccc",
   "metadata": {},
   "outputs": [],
   "source": [
    "# that's a 2x1x2 array. not very intuititive to look at\n",
    "m4[:,2,:]  "
   ]
  },
  {
   "cell_type": "code",
   "execution_count": null,
   "id": "b86b5af2-15dd-4afc-9b38-e7dc7e98bfbb",
   "metadata": {},
   "outputs": [],
   "source": [
    "# get rid of dimensions with size 1:\n",
    "dropdims(m4[:,2,:], dims=2) # that's better"
   ]
  },
  {
   "cell_type": "code",
   "execution_count": null,
   "id": "7e628dec-1c8d-4208-87ff-056111304bd9",
   "metadata": {},
   "outputs": [],
   "source": [
    "# assign new values to a certain view\n",
    "m4[:,:,1] = rand(1:6,2,3)"
   ]
  },
  {
   "cell_type": "code",
   "execution_count": null,
   "id": "ddcefb51-a257-40ff-9679-8c8bcf3f7903",
   "metadata": {},
   "outputs": [],
   "source": [
    "size(m4)"
   ]
  },
  {
   "cell_type": "code",
   "execution_count": null,
   "id": "28e5ea16-026d-45f2-a33d-c1b7a0ea4419",
   "metadata": {},
   "outputs": [],
   "source": [
    "# It is important to pay attention to the type of the arrays whan making assignments\n",
    "# m4 is an Int array:\n",
    "try\n",
    "    # this will cause an error, you have to assign the correct type\n",
    "    m4[:,:,1] = rand(2,3)\n",
    "catch err\n",
    "    println(err)\n",
    "end"
   ]
  },
  {
   "cell_type": "code",
   "execution_count": null,
   "id": "0876e4af-c101-4df0-bda4-63a30ddbd863",
   "metadata": {},
   "outputs": [],
   "source": [
    "try\n",
    "    # this will cause an error, you have to assign the right shape\n",
    "    m4[:,:,1] = rand(1:6,3,2)\n",
    "catch err\n",
    "    println(err)\n",
    "end"
   ]
  },
  {
   "cell_type": "code",
   "execution_count": null,
   "id": "75601482-b40b-4ce2-9d30-ee4c1969b72d",
   "metadata": {},
   "outputs": [],
   "source": [
    "# Note that the following function makes random draws from the integers in the range 1:6\n",
    "rand(1:6, 3,2)"
   ]
  },
  {
   "cell_type": "code",
   "execution_count": null,
   "id": "30b08e28-d104-4b74-866b-b373e88883ab",
   "metadata": {},
   "outputs": [],
   "source": [
    "# but this generates uniform random floats between 0 and 1 (in the shape of 2,3)\n",
    "rand(2,3)"
   ]
  },
  {
   "cell_type": "markdown",
   "id": "7a8e36a0-8cb4-4941-a113-9193b21d3720",
   "metadata": {},
   "source": [
    "# Dictionaries\n",
    "\n",
    "Julia uses Dicts as associative collections. https://docs.julialang.org/en/v1/base/collections/#Dictionaries-1\n",
    "\n",
    "Usage is similar to Python dictionaries (if you are familiar with that), except for the rather odd `=>` definition syntax."
   ]
  },
  {
   "cell_type": "code",
   "execution_count": null,
   "id": "b9c7a846-5ec6-4087-a2a9-b4e11a3afef8",
   "metadata": {},
   "outputs": [],
   "source": [
    "# dicts can be initialised directly:\n",
    "a1 = Dict(1=>\"one\", 2=>\"two\")"
   ]
  },
  {
   "cell_type": "code",
   "execution_count": null,
   "id": "694dd4df-304e-49c0-a675-33d3ed055ec8",
   "metadata": {},
   "outputs": [],
   "source": [
    "# then added to:\n",
    "a1[3] = \"three\"\n",
    "a1\n",
    "# (note dicts cannot be assumed to keep their original order)"
   ]
  },
  {
   "cell_type": "code",
   "execution_count": null,
   "id": "d66f8992-37f8-473a-aff4-85dcebd32800",
   "metadata": {},
   "outputs": [],
   "source": [
    "# dicts may also be created with the type explicitly set\n",
    "a2 = Dict{Int64, AbstractString}()\n",
    "a2[0]=\"zero\"\n",
    "a2"
   ]
  },
  {
   "cell_type": "code",
   "execution_count": null,
   "id": "26771974-f3da-43b5-b34e-7b948dc09526",
   "metadata": {},
   "outputs": [],
   "source": [
    "# dicts, like arrays, may also be created from comprehensions\n",
    "a3 = Dict([i => @sprintf(\"%d\", i) for i=1:10])"
   ]
  },
  {
   "cell_type": "code",
   "execution_count": null,
   "id": "a4ec5bf8-bed0-4c80-8d71-f3d28d287d9f",
   "metadata": {},
   "outputs": [],
   "source": [
    "# Julia comes with all the normal helper functions for dicts, e.g., haskey\n",
    "println(haskey(a1, 1))"
   ]
  },
  {
   "cell_type": "code",
   "execution_count": null,
   "id": "96d44fd9-8ee6-42cd-a8ae-ac22498602aa",
   "metadata": {},
   "outputs": [],
   "source": [
    "# which is equivalent to\n",
    "println(1 in keys(a1))"
   ]
  },
  {
   "cell_type": "code",
   "execution_count": null,
   "id": "b5ed3185-402f-42e2-84c2-a38ab6c2e426",
   "metadata": {},
   "outputs": [],
   "source": [
    "# similar to keys, values get iterators over the dict's values:\n",
    "values(a1)"
   ]
  },
  {
   "cell_type": "code",
   "execution_count": null,
   "id": "1a996caa-ea8c-4c02-965d-d3dfb6388964",
   "metadata": {},
   "outputs": [],
   "source": [
    "# use collect to get an array:\n",
    "collect(values(a1))"
   ]
  },
  {
   "cell_type": "markdown",
   "id": "17ddb25a-c754-4103-bf8a-fa6b586d5315",
   "metadata": {},
   "source": [
    "# Loops and Map\n",
    "\n",
    "For loops can be defined in a number of ways. https://docs.julialang.org/en/v1/manual/control-flow/#man-loops-1"
   ]
  },
  {
   "cell_type": "code",
   "execution_count": null,
   "id": "21b09818-3482-4284-a210-9e5353d0a3e0",
   "metadata": {},
   "outputs": [],
   "source": [
    "# here is a for loop\n",
    "for i in 1:5\n",
    "    print(i, \", \")\n",
    "end"
   ]
  },
  {
   "cell_type": "markdown",
   "id": "1c86df7c-0a7c-4a0a-ad5c-0d6f09b22af2",
   "metadata": {},
   "source": [
    "**in loop definitions `in` is equivalent to `=`**"
   ]
  },
  {
   "cell_type": "code",
   "execution_count": null,
   "id": "a74694ee-2ae9-4e3e-b191-755c17dc925f",
   "metadata": {},
   "outputs": [],
   "source": [
    "for i = 1:5\n",
    "    print(i, \", \")\n",
    "end"
   ]
  },
  {
   "cell_type": "code",
   "execution_count": null,
   "id": "7a24e8bc-0c4c-43df-a4b3-a5a753f396fa",
   "metadata": {},
   "outputs": [],
   "source": [
    "# arrays can also be looped over directly:\n",
    "a1 = [1,2,3,4]\n",
    "for i in a1\n",
    "    print(i, \", \")\n",
    "end"
   ]
  },
  {
   "cell_type": "code",
   "execution_count": null,
   "id": "0a81e116-e82c-4b7e-8202-224f9376dc70",
   "metadata": {},
   "outputs": [],
   "source": [
    "# continue and break work in the same way as python\n",
    "a2 = collect(1:20)\n",
    "for i in a2\n",
    "    if i % 2 != 0\n",
    "        continue\n",
    "    end\n",
    "    print(i, \", \")\n",
    "    if i >= 8\n",
    "        break\n",
    "    end\n",
    "end"
   ]
  },
  {
   "cell_type": "markdown",
   "id": "bb4dcfc5-3f36-46f6-b02d-e6ed8a127b0a",
   "metadata": {},
   "source": [
    "**If the array is being manipulated during evaluation a while loop shoud be used**"
   ]
  },
  {
   "cell_type": "code",
   "execution_count": null,
   "id": "10a1e1a6-24b0-42aa-b641-28b760f8ab1f",
   "metadata": {},
   "outputs": [],
   "source": [
    "# pop removes the last element from an array\n",
    "while !isempty(a2)\n",
    "    print(pop!(a2), \", \")\n",
    "end"
   ]
  },
  {
   "cell_type": "code",
   "execution_count": null,
   "id": "bd1f85d4-0e16-4a51-ad71-40505bcb0870",
   "metadata": {},
   "outputs": [],
   "source": [
    "d1 = Dict(1=>\"one\", 2=>\"two\", 3=>\"three\")\n",
    "# dicts may be looped through using the keys function:\n",
    "for k in sort(collect(keys(d1)))\n",
    "    print(k, \": \", d1[k], \", \")\n",
    "end"
   ]
  },
  {
   "cell_type": "code",
   "execution_count": null,
   "id": "b2fb8d28-361a-4ee1-8319-6b2553aa0aaf",
   "metadata": {},
   "outputs": [],
   "source": [
    "# like python enumerate can be used to get both the index and value in a loop\n",
    "a3 = [\"one\", \"two\", \"three\"]\n",
    "for (i, v) in enumerate(a3)\n",
    "    print(i, \": \", v, \", \")\n",
    "end\n",
    "\n",
    "# (note enumerate starts from 1 since Julia arrays are 1 indexed unlike python)"
   ]
  },
  {
   "cell_type": "markdown",
   "id": "90b98a38-504f-4eeb-807e-f217168e4991",
   "metadata": {},
   "source": [
    "### Map\n",
    "\n",
    "`map` performs the given function on each member of an array or iter (much like comprehensions)"
   ]
  },
  {
   "cell_type": "code",
   "execution_count": null,
   "id": "21e64300-99bd-45bb-bfca-86be74974aae",
   "metadata": {},
   "outputs": [],
   "source": [
    "a4 = map((x) -> x^2, [1, 2, 3, 7])"
   ]
  },
  {
   "cell_type": "markdown",
   "id": "df384b49-e8b8-4a51-9027-438e2f3a3b0f",
   "metadata": {},
   "source": [
    "# Conditional evaluation\n",
    "\n",
    "if/else statements work much like other languages - the boolean opperators are true and false."
   ]
  },
  {
   "cell_type": "code",
   "execution_count": null,
   "id": "6b9dd5ef-9466-48e6-bd42-075ed8b53f13",
   "metadata": {},
   "outputs": [],
   "source": [
    "if true\n",
    "    println(\"it's true\")\n",
    "else\n",
    "    println(\"it's false\")\n",
    "end"
   ]
  },
  {
   "cell_type": "code",
   "execution_count": null,
   "id": "6f130bef-f22f-4f48-a4fb-193599ddcb9d",
   "metadata": {},
   "outputs": [],
   "source": [
    "if false\n",
    "   println(\"It's true!\")\n",
    "else\n",
    "   println(\"It's false!\")\n",
    "end"
   ]
  },
  {
   "cell_type": "code",
   "execution_count": null,
   "id": "d7c36728-1ba7-4bb1-b7de-0d9f829e5fbe",
   "metadata": {},
   "outputs": [],
   "source": [
    "1 == 1."
   ]
  },
  {
   "cell_type": "code",
   "execution_count": null,
   "id": "d7102d36-e16e-48d6-bf1c-3d7ae2ff67a2",
   "metadata": {},
   "outputs": [],
   "source": [
    "# Numbers can be compared with opperators like <, >, ==, !=\n",
    "\n",
    "1 > 2"
   ]
  },
  {
   "cell_type": "code",
   "execution_count": null,
   "id": "ceea4e63-05fb-4355-9969-87197743ec6a",
   "metadata": {},
   "outputs": [],
   "source": [
    "\"foo\" != \"bar\""
   ]
  },
  {
   "cell_type": "code",
   "execution_count": null,
   "id": "f4a8084f-ac11-4654-91b2-93163325cd42",
   "metadata": {},
   "outputs": [],
   "source": [
    "# many functions in Julia return boolean values\n",
    "\n",
    "occursin(\"this\", \"this and that\")"
   ]
  },
  {
   "cell_type": "markdown",
   "id": "ae512feb-6706-47ae-9314-045ebd4b940d",
   "metadata": {},
   "source": [
    "**More complex logical statments can be achieved with `elseif`**"
   ]
  },
  {
   "cell_type": "code",
   "execution_count": null,
   "id": "6d9ad23e-ed6b-4e0c-9db8-f56a108f4ca6",
   "metadata": {},
   "outputs": [],
   "source": [
    "function checktype(x)\n",
    "    if x isa Int\n",
    "        println(\"Look! An Int\")\n",
    "    elseif x isa AbstractFloat\n",
    "        println(\"Look! A Float!\")\n",
    "    elseif x isa Complex\n",
    "        println(\"Whoa, that's a complex!\")\n",
    "    else\n",
    "        println(\"I have no idea what that is\")\n",
    "    end\n",
    "end"
   ]
  },
  {
   "cell_type": "code",
   "execution_count": null,
   "id": "2fd97866-99f9-47e6-9f91-999ae2b9fbce",
   "metadata": {},
   "outputs": [],
   "source": [
    "checktype(2)"
   ]
  },
  {
   "cell_type": "code",
   "execution_count": null,
   "id": "70c0b3b6-c989-4c31-9827-553832d0951b",
   "metadata": {},
   "outputs": [],
   "source": [
    "checktype(2.0)"
   ]
  },
  {
   "cell_type": "code",
   "execution_count": null,
   "id": "0683775d-85ab-43c5-9ae7-6dbd11490d8a",
   "metadata": {},
   "outputs": [],
   "source": [
    "checktype(sqrt(Complex(-2)))"
   ]
  },
  {
   "cell_type": "code",
   "execution_count": null,
   "id": "da1e2dee-7ea8-459e-ab91-194f8a8d374c",
   "metadata": {},
   "outputs": [],
   "source": [
    "checktype(\"who am I?\")"
   ]
  },
  {
   "cell_type": "markdown",
   "id": "a6eb5f4e-cbb5-41ba-ac10-e6ddcebc38ac",
   "metadata": {},
   "source": [
    "### Ternary operator\n",
    "\n",
    "For simple logical statements, one can be more terse using the \"ternary operator\", which takes the form `predicate ? do_if_true : do_if_false`"
   ]
  },
  {
   "cell_type": "code",
   "execution_count": null,
   "id": "ee9337aa-af75-4087-9e4a-9bbba5c7fef1",
   "metadata": {},
   "outputs": [],
   "source": [
    "1 > 2 ? println(\"that's tru\") : println(\"that's false\")"
   ]
  },
  {
   "cell_type": "code",
   "execution_count": null,
   "id": "ff533334-45fc-4518-b91d-c94f76fec9de",
   "metadata": {},
   "outputs": [],
   "source": [
    "noisy_sqrt(x) = x >= 0 ? sqrt(x) : \"That's negative\""
   ]
  },
  {
   "cell_type": "code",
   "execution_count": null,
   "id": "b454795f-6f45-43a5-bb24-c984a67e9514",
   "metadata": {},
   "outputs": [],
   "source": [
    "noisy_sqrt(-2)"
   ]
  },
  {
   "cell_type": "code",
   "execution_count": null,
   "id": "6b615c2f-db4d-40c4-8fa1-9204c20a2db5",
   "metadata": {},
   "outputs": [],
   "source": [
    "noisy_sqrt(33)"
   ]
  },
  {
   "cell_type": "markdown",
   "id": "a86f5a55-1656-43a5-a2e5-992a272f0c8a",
   "metadata": {},
   "source": [
    "### \"Short-circuit evaluation\" \n",
    "\n",
    "This offers another option for conditional statements. The opperators `&&` for AND and `||` for OR only evaluate the right-hand statement if necessary based on the predicate. Logically, if I want to know if `42 == 0 AND x < y`, it doesn't matter what `x` and `y` are, since the first statement is false. This can be exploited to only evaluate a statement if something is true - the second statement doesn't even have to be boolean!"
   ]
  },
  {
   "cell_type": "code",
   "execution_count": null,
   "id": "e659f814-8aa3-448b-bc09-73967e9b26c8",
   "metadata": {},
   "outputs": [],
   "source": [
    "everything = 42"
   ]
  },
  {
   "cell_type": "code",
   "execution_count": null,
   "id": "6b36c885-004e-413c-944b-703272702404",
   "metadata": {},
   "outputs": [],
   "source": [
    "everything < 100 && println(\"that's true\")"
   ]
  },
  {
   "cell_type": "code",
   "execution_count": null,
   "id": "626fe035-889f-43c0-b149-534c23c51734",
   "metadata": {},
   "outputs": [],
   "source": [
    "everything == 100 && println(\"that's false\")"
   ]
  },
  {
   "cell_type": "code",
   "execution_count": null,
   "id": "9004c7bf-22c7-43d2-b938-f23c14e71cef",
   "metadata": {},
   "outputs": [],
   "source": [
    "everything > 0 && println(\"eat them apples\")"
   ]
  },
  {
   "cell_type": "markdown",
   "id": "1bf1d815-a6ed-4bd5-a352-0019a444df4b",
   "metadata": {},
   "source": [
    "# Types\n",
    "\n",
    "Types are a key way of structuring data within Julia."
   ]
  },
  {
   "cell_type": "code",
   "execution_count": null,
   "id": "f0941d5e-a842-41bb-bb3e-4a300abf2851",
   "metadata": {},
   "outputs": [],
   "source": [
    "# An example Type Definition: \n",
    "# a simple type with no special constructor functions might look like this\n",
    "# (a kind of bundles of variables)\n",
    "mutable struct Person\n",
    "    name::AbstractString\n",
    "    male::Bool\n",
    "    age::Float64\n",
    "    children::Int\n",
    "end"
   ]
  },
  {
   "cell_type": "code",
   "execution_count": null,
   "id": "7240fa21-a0da-4d6f-9bfe-8aeb9d2dcf44",
   "metadata": {},
   "outputs": [],
   "source": [
    "p = Person(\"Julia\", false, 4, 0)"
   ]
  },
  {
   "cell_type": "code",
   "execution_count": null,
   "id": "2b30db59-d8e3-411b-88ef-7548e8796e02",
   "metadata": {},
   "outputs": [],
   "source": [
    "people = Person[]\n",
    "push!(people, Person(\"Steve\", true, 42, 0))\n",
    "push!(people, Person(\"Jade\", false, 17, 3))"
   ]
  },
  {
   "cell_type": "code",
   "execution_count": null,
   "id": "b02d88d8-6488-4761-aaf9-423eca0010cd",
   "metadata": {},
   "outputs": [],
   "source": [
    "# types may also contains arrays and dicts\n",
    "# constructor functions can be defined to easily create objects\n",
    "# notice here we have two constructors, one of which is executed depending on the call (see below)\n",
    "\n",
    "mutable struct Family\n",
    "    name::AbstractString\n",
    "    members::Array{AbstractString, 1}\n",
    "    extended::Bool\n",
    "    Family(name::AbstractString) = new(name, AbstractString[], false)\n",
    "    Family(name::AbstractString, members) = new(name, members, length(members) > 3)\n",
    "end"
   ]
  },
  {
   "cell_type": "code",
   "execution_count": null,
   "id": "8d83ef45-aba1-43e4-8cee-c3569dd498cb",
   "metadata": {},
   "outputs": [],
   "source": [
    "fam1 = Family(\"blogs\")"
   ]
  },
  {
   "cell_type": "code",
   "execution_count": null,
   "id": "291cea90-5d66-4141-8d15-f0d63338e40a",
   "metadata": {},
   "outputs": [],
   "source": [
    "fam2 = Family(\"jones\", [\"jake\", \"hallen\", \"marvel\", \"cage\"])"
   ]
  },
  {
   "cell_type": "markdown",
   "id": "649c0174-612d-4e0d-b2f3-e6eb38c2339b",
   "metadata": {},
   "source": [
    "# Input & Output\n",
    "\n",
    "The basic syntax for reading and writing files in Julia is quite similar to python.\n",
    "\n",
    "The simple.dat file used in this example should be readily available on this folder."
   ]
  },
  {
   "cell_type": "code",
   "execution_count": null,
   "id": "e0063592-b6e8-40fd-9bd3-2b848dca791f",
   "metadata": {},
   "outputs": [],
   "source": [
    "fname = \"simple.dat\"\n",
    "# using do means the file is closed automatically\n",
    "# (in the same way \"with\" does in python)\n",
    "open(fname, \"r\") do f\n",
    "    for line in eachline(f)\n",
    "        println(line)\n",
    "    end\n",
    "end"
   ]
  },
  {
   "cell_type": "code",
   "execution_count": null,
   "id": "86145a83-1607-42f8-b5b2-b0003894463b",
   "metadata": {},
   "outputs": [],
   "source": [
    "f = open(fname, \"r\")\n",
    "show(readlines(f)); println()\n",
    "close(f)"
   ]
  },
  {
   "cell_type": "code",
   "execution_count": null,
   "id": "d80932c9-b9d0-4d2d-92a1-59368179fe36",
   "metadata": {},
   "outputs": [],
   "source": [
    "f = open(fname, \"r\")\n",
    "fstring = read(f, String)\n",
    "close(f)\n",
    "print(fstring)"
   ]
  },
  {
   "cell_type": "code",
   "execution_count": null,
   "id": "75528129-1004-4fc3-ac64-af3adfe91be2",
   "metadata": {},
   "outputs": [],
   "source": [
    "outfile = \"outfile.dat\"\n",
    "# writing to files is very similar:\n",
    "f = open(outfile, \"w\")\n",
    "println(f, \"some content\")\n",
    "print(f, \"some more content\")\n",
    "print(f, \" more content but on the same line\")\n",
    "close(f)"
   ]
  },
  {
   "cell_type": "code",
   "execution_count": null,
   "id": "58d9b498-b170-4e4f-92ba-7981b5428a2d",
   "metadata": {},
   "outputs": [],
   "source": [
    "# we can then check the content of the file written\n",
    "# \"do\" above just creates an anonymous function and passes it to open\n",
    "# we can use the same logic to pass readall and thereby succinctly\n",
    "# open, read and close a file in one line\n",
    "outfile_content = open(f->read(f, String), outfile, \"r\")\n",
    "println(repr(outfile_content))"
   ]
  },
  {
   "cell_type": "markdown",
   "id": "a890741f-b28a-4f48-b619-3d7319edff81",
   "metadata": {},
   "source": [
    "# Packages and Including of Files\n",
    "\n",
    "Packages extend the functionality of Julia's standard library. For more https://pkg.julialang.org/docs/"
   ]
  },
  {
   "cell_type": "code",
   "execution_count": null,
   "id": "8f375cae-29c3-4e12-b97e-8a2bb3ffdb4a",
   "metadata": {},
   "outputs": [],
   "source": [
    "# Pkg is Julia's package manager\n",
    "using Pkg\n",
    "\n",
    "# list all available packages:\n",
    "#Pkg.available()"
   ]
  },
  {
   "cell_type": "code",
   "execution_count": null,
   "id": "d1d6aceb-13cd-4b0b-9102-38a6ae36fbb4",
   "metadata": {
    "scrolled": true
   },
   "outputs": [],
   "source": [
    "# Now, activate the environment we have already set up for this repo\n",
    "# This enables us to store the newly added packages etc. in a local directory\n",
    "# IN THE FOLLOWING, CHANGE \"psyc261_iy42\" TO YOUR CLASS USERNAME"
   ]
  },
  {
   "cell_type": "code",
   "execution_count": null,
   "id": "1d2bd0d8-d15b-47e8-9b86-243263d9c428",
   "metadata": {},
   "outputs": [],
   "source": [
    "Pkg.activate(\"project-environment\")\n",
    "# NOTICE THAT WE CAN KEEP USING THIS ENVIRONMENT AS WE GO ALONG IN THIS COURSE"
   ]
  },
  {
   "cell_type": "code",
   "execution_count": null,
   "id": "173fb2e4-1044-435d-bf21-b0a7784155dc",
   "metadata": {},
   "outputs": [],
   "source": [
    "# to list all installed packages\n",
    "#Pkg.installed()"
   ]
  },
  {
   "cell_type": "code",
   "execution_count": null,
   "id": "78d09615-a38d-425f-b17b-14ee64afe884",
   "metadata": {},
   "outputs": [],
   "source": [
    "# let's install the Calculus package\n",
    "\n",
    "Pkg.add(\"Calculus\")\n"
   ]
  },
  {
   "cell_type": "code",
   "execution_count": null,
   "id": "8b076826-d731-4bd0-a5df-8386cff789f9",
   "metadata": {},
   "outputs": [],
   "source": [
    "# to use a package:\n",
    "using Calculus\n",
    "# will import all functions of that package into the current namespace, so that\n",
    "# it is possible to call-->"
   ]
  },
  {
   "cell_type": "code",
   "execution_count": null,
   "id": "f967ff94-6edb-4555-b738-c8c614ef7711",
   "metadata": {},
   "outputs": [],
   "source": [
    "derivative(x -> sin(x), 10)\n",
    "# without specifing the package it is included in."
   ]
  },
  {
   "cell_type": "code",
   "execution_count": null,
   "id": "baa9e5d9-4ea7-4919-8995-abaa1091b8c1",
   "metadata": {},
   "outputs": [],
   "source": [
    "import Calculus\n",
    "# will enable you to specify which package the function is called from\n",
    "Calculus.derivative(x -> cos(x), 1.0)\n",
    "\n",
    "# Using `import` is especially useful if there are conflicts in function/type-names\n",
    "# between packages."
   ]
  },
  {
   "cell_type": "markdown",
   "id": "b71f777a-d827-4641-bd8b-47c2ee164496",
   "metadata": {},
   "source": [
    "# Plotting\n",
    "\n",
    "Plotting in Julia is only possible with additional Packages. \n",
    "\n",
    "We will most often use the package Plots http://docs.juliaplots.org/latest/"
   ]
  },
  {
   "cell_type": "code",
   "execution_count": null,
   "id": "0abe53d4-5e67-4031-984d-7ea3b79174c6",
   "metadata": {
    "scrolled": true
   },
   "outputs": [],
   "source": [
    "# Let's install it first \n",
    "Pkg.add(\"Gen\")"
   ]
  },
  {
   "cell_type": "code",
   "execution_count": null,
   "id": "1fc2596a-1711-49b4-a806-c5beb5b94e38",
   "metadata": {},
   "outputs": [],
   "source": [
    "using Gen"
   ]
  },
  {
   "cell_type": "code",
   "execution_count": null,
   "id": "c3e8961f-65ee-44b4-8e35-cdb81367ada9",
   "metadata": {},
   "outputs": [],
   "source": [
    "Pkg.add(\"Plots\")"
   ]
  },
  {
   "cell_type": "code",
   "execution_count": null,
   "id": "8bd035f5-ab90-4828-8ba7-c3400e62b646",
   "metadata": {},
   "outputs": [],
   "source": [
    "# to use it, say\n",
    "using Plots"
   ]
  },
  {
   "cell_type": "code",
   "execution_count": null,
   "id": "10f2f000-4dcc-4fdb-8dd4-338897b9aca2",
   "metadata": {},
   "outputs": [],
   "source": [
    "# plot some data\n",
    "plot([cumsum(rand(500) .- 0.5), cumsum(rand(500) .- 0.5)])\n",
    "\n",
    "# save the current figure\n",
    "savefig(\"plots.svg\")\n",
    "# .eps, .pdf, & .png are also supported\n",
    "# we used svg here because it respects the width and height specified above"
   ]
  },
  {
   "cell_type": "markdown",
   "id": "65b26e60-605e-4fdf-bc56-8d57564e1455",
   "metadata": {},
   "source": [
    "**Not included here, but see for the package DataFrames** https://juliabyexample.helpmanual.io/#DataFrames"
   ]
  },
  {
   "cell_type": "markdown",
   "id": "b4f6f9ff-1307-4b8b-8f1e-64dac02bc7d6",
   "metadata": {},
   "source": [
    "# Appendix: String Manipulations"
   ]
  },
  {
   "cell_type": "code",
   "execution_count": null,
   "id": "4a28d556-06a8-47ca-9b3f-225585c1caae",
   "metadata": {},
   "outputs": [],
   "source": [
    "s1 = \"The quick brown fox jumps over the lazy dog α,β,γ\""
   ]
  },
  {
   "cell_type": "code",
   "execution_count": null,
   "id": "34412522-1841-47b1-9e0e-c1d46d462d86",
   "metadata": {},
   "outputs": [],
   "source": [
    "# search returns the first index of a char\n",
    "i = findfirst(isequal('b'), s1)"
   ]
  },
  {
   "cell_type": "code",
   "execution_count": null,
   "id": "e2ad495f-99e0-48c6-af68-2770d004213e",
   "metadata": {},
   "outputs": [],
   "source": [
    "# or it returns a range if called with another string\n",
    "r = findfirst(\"brown\", s1)"
   ]
  },
  {
   "cell_type": "code",
   "execution_count": null,
   "id": "8a71e28d-a094-4b9b-8d2d-3074ac70520e",
   "metadata": {},
   "outputs": [],
   "source": [
    "# string replace is done thus:\n",
    "r = replace(s1, \"brown\" => \"red\")"
   ]
  },
  {
   "cell_type": "code",
   "execution_count": null,
   "id": "ece3b3ed-589b-4ed0-9c85-9705e838022e",
   "metadata": {},
   "outputs": [],
   "source": [
    "# a string can be repeated using the repeat function, \n",
    "# or more succinctly with the ^ syntax:\n",
    "r = \"hello\"^3"
   ]
  },
  {
   "cell_type": "code",
   "execution_count": null,
   "id": "65ae65f7-297a-4be9-9678-0ddbcaafd4b4",
   "metadata": {},
   "outputs": [],
   "source": [
    "# the strip function works the same as python:\n",
    "# e.g., with one argument it strips the outer whitespace\n",
    "r = strip(\"hello \", ['h', ' '])"
   ]
  },
  {
   "cell_type": "code",
   "execution_count": null,
   "id": "9e360c26-9bf3-4908-9c7f-a4ea44e9efbd",
   "metadata": {},
   "outputs": [],
   "source": [
    "# or with a second argument of an array of chars it strips any of them;\n",
    "r = strip(\"hellow, child, escape\", ',')"
   ]
  }
 ],
 "metadata": {
  "kernelspec": {
   "display_name": "Julia 1.10.0",
   "language": "julia",
   "name": "julia-1.10"
  },
  "language_info": {
   "file_extension": ".jl",
   "mimetype": "application/julia",
   "name": "julia",
   "version": "1.10.0"
  }
 },
 "nbformat": 4,
 "nbformat_minor": 5
}
